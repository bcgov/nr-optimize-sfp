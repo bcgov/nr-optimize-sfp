{
  "cells": [
    {
      "cell_type": "code",
      "execution_count": null,
      "metadata": {
        "id": "H0GqrAzvmhx-"
      },
      "outputs": [],
      "source": [
        "# import python libraries\n",
        "import os\n",
        "import re\n",
        "from datetime import datetime\n",
        "import pandas as pd\n",
        "from docx import Document\n",
        "import slate3k as slate\n",
        "import openpyxl\n",
        "import csv"
      ]
    },
    {
      "cell_type": "code",
      "execution_count": null,
      "metadata": {
        "id": "CjLK3tuNnQgf"
      },
      "outputs": [],
      "source": [
        "# put cautions at the start of script execution\n",
        "print(\"Things to know before proceeding:\")\n",
        "print(\"1. You must be connected to the BCGOV network by VPN or ethernet cable.\")\n",
        "print(\"2. You need to have OneDrive set up because your search results will be saved there as a CSV file.\")\n",
        "print(\"3. This script uses REGEX to find specific content within files. If you are adding new keywords to the search, you may want to visit https://www.dataquest.io/blog/regex-cheatsheet/.\")\n",
        "print(\"\\n\")"
      ]
    },
    {
      "cell_type": "code",
      "execution_count": null,
      "metadata": {
        "id": "0poFuW7RsNK8"
      },
      "outputs": [],
      "source": [
        "# set the date formatting\n",
        "now = datetime.now()\n",
        "dt_string = now.strftime(\"%Y-%b-%d-%H%M%S\")"
      ]
    },
    {
      "cell_type": "code",
      "execution_count": null,
      "metadata": {
        "id": "jO5aZUPOruWy"
      },
      "outputs": [],
      "source": [
        "# set the file paths\n",
        "UserName = os.environ.get('USERNAME')\n",
        "\n",
        "OneDrive = f\"C:/Users/{UserName}/OneDrive - Government of BC\"\n",
        "if not os.path.exists(OneDrive):\n",
        "  print(\"Please enable OneDrive before running this script\")\n",
        "  exit()\n",
        "\n",
        "SavePath = f\"C:/Users/{UserName}/OneDrive - Government of BC/Optimize\"\n",
        "if not os.path.exists(SavePath):\n",
        "  os.makedirs(SavePath)\n",
        "\n",
        "SaveName = f\"{SavePath}/filtered_path_report_\" + dt_string + \".csv\""
      ]
    },
    {
      "cell_type": "code",
      "execution_count": null,
      "metadata": {
        "id": "u-4Gv8sCr1Kj"
      },
      "outputs": [],
      "source": [
        "keywords = [\"^first aid$|^First aid$|^First Aid$\",\"[6][A]|[6][a]\",\"SIRP|sirp\",r\"\\btrauma|\\bTrauma\",r\"\\bbully|\\bBully\",r\"\\bbullied|\\Bullied\",r\"\\bharass|\\bHarass\",r\"\\bsuicid|\\bSuicid\",r\"\\bassault|\\bAssault\",r\"\\babus|\\bAbus\"]\n",
        "\n",
        "print(f\"The keyword list is: \\n\")\n",
        "for (i, item) in enumerate(keywords, start=0):\n",
        "    print(i, item)"
      ]
    },
    {
      "cell_type": "code",
      "execution_count": null,
      "metadata": {
        "id": "rVCSTVG4zgt2"
      },
      "outputs": [],
      "source": [
        "keywords_answer = input(\"Do you want to add more keywords to the existing list? \")\n",
        "\n",
        "if keywords_answer == \"yes\":\n",
        "  # add new keywords to list\n",
        "  add_keywords = list()\n",
        "  add_keywords = input(\"Add extra keywords, separated by commas:\\n\").split(', ')\n",
        "  #keywords.append(add_keywords)\n",
        "  keywords.extend(add_keywords)\n",
        "  print(\"\\nThe updated keyword list is: \")\n",
        "  for (i, item) in enumerate(keywords, start=0):\n",
        "    print(i, item)\n",
        "elif keywords_answer == \"no\":\n",
        "  print(f\"\\nOK, no additions will be made.\")\n",
        "\n",
        "while keywords_answer not in (\"yes\", \"no\"):\n",
        "    keywords_answer = input(\"Enter yes or no: \")\n",
        "    if keywords_answer == \"yes\":\n",
        "      add_keywords = list()\n",
        "      add_keywords = input(\"\\nAdd extra keywords, separated by commas: \").split(', ')\n",
        "      keywords.extend(add_keywords)\n",
        "      print(\"\\nThe updated keyword list is: \")\n",
        "      for (i, item) in enumerate(keywords, start=0):\n",
        "        print(i, item)\n",
        "    elif keywords_answer == \"no\":\n",
        "      print(f\"\\nOK, no additions will be made.\")\n",
        "      break\n",
        "    else:\n",
        "    \tprint(\"Please enter yes or no.\")"
      ]
    },
    {
      "cell_type": "code",
      "execution_count": null,
      "metadata": {
        "id": "jO9uMrxtz5XU"
      },
      "outputs": [],
      "source": [
        "keywords_next = input(\"Do you want to remove keywords from the existing list? \")\n",
        "\n",
        "if keywords_next == \"yes\":\n",
        "  #remove keywords from list\n",
        "  remove_keywords = list()\n",
        "  remove_keywords = input(\"\\nEnter the keywords you want removed exactly as they were listed earlier, separated by commas: \").split(', ')\n",
        "\n",
        "  # looping list of numbers to remove\n",
        "  for word in remove_keywords:\n",
        "    # remove it from the list\n",
        "    while word in keywords:\n",
        "        keywords.remove(word)\n",
        "\n",
        "  print(\"\\nThe updated keyword list is: \")\n",
        "  for (i, item) in enumerate(keywords, start=0):\n",
        "    print(i, item)\n",
        "\n",
        "elif keywords_next == \"no\":\n",
        "    print(f\"\\nOK, no removals will be made.\")\n",
        "\n",
        "while keywords_next not in (\"yes\", \"no\"):\n",
        "    keywords_next = input(\"Enter yes or no: \")\n",
        "\n",
        "    if keywords_next == \"yes\":\n",
        "      #remove keywords from list\n",
        "      remove_keywords = list()\n",
        "      remove_keywords = input(\"\\nEnter the keywords you want removed exactly as they were listed earlier, separated by commas: \").split(', ')\n",
        "\n",
        "      # looping list of numbers to remove\n",
        "      for word in remove_keywords:\n",
        "        # remove it from the list\n",
        "        while word in keywords:\n",
        "          keywords.remove(word)\n",
        "\n",
        "      print(\"\\nThe updated keyword list is: \")\n",
        "      for (i, item) in enumerate(keywords, start=0):\n",
        "        print(i, item)\n",
        "\n",
        "    elif keywords_next == \"no\":\n",
        "      print(f\"\\nOK, no removals will be made.\")\n",
        "      break\n",
        "    else:\n",
        "    \tprint(\"Please enter yes or no.\")"
      ]
    },
    {
      "cell_type": "code",
      "execution_count": null,
      "metadata": {
        "id": "z-HdGCG3qUg9"
      },
      "outputs": [],
      "source": [
        "user_dir = input(\"\\nEnter the directory you want to search exactly as you have it mapped on your computer: \")\n",
        "\n",
        "answer = input(f\"\\nIs {user_dir} the correct directory? \")\n",
        "\n",
        "if answer == \"yes\":\n",
        "  # check that the path exists\n",
        "  if os.path.exists(user_dir):\n",
        "  # confirm the user_dir search\n",
        "    print(f\"Searching {user_dir} for file contents and compiling data to file, this may take several minutes or several hours depending on size.\")\n",
        "    print(\"Please keep this window running in the background until complete...\")\n",
        "  else:\n",
        "    print(\"Cannot reach network drive. Please check your exact path name and ensure you have permission to access this drive and/or folder./n\")\n",
        "    # repeat user_dir prompt\n",
        "    retry_dir = input(\"\\nTry again: Enter the directory you want to search exactly as you have it mapped on your computer: \")\n",
        "    user_dir = retry_dir\n",
        "    if os.path.exists(user_dir):\n",
        "    # confirm the user_dir search\n",
        "      print(f\"Searching {user_dir} for file contents and compiling data to file, this may take several minutes or several hours depending on size.\")\n",
        "      print(\"Please keep this window running in the background until complete...\")\n",
        "    else:\n",
        "      print(\"Cannot reach network drive. Exiting now...\")\n",
        "      exit()\n",
        "elif answer == \"no\":\n",
        "  # repeat user_dir prompt\n",
        "  retry_dir = input(\"\\nTry again: Enter the directory you want to search exactly as you have it mapped on your computer: \")\n",
        "  user_dir = retry_dir\n",
        "  if os.path.exists(user_dir):\n",
        "    # confirm the user_dir search\n",
        "    print(f\"Searching {user_dir} for file contents and compiling data to file, this may take several minutes or several hours depending on size.\")\n",
        "    print(\"Please keep this window running in the background until complete...\")\n",
        "  else:\n",
        "      print(\"Cannot reach \", user_dir, \" please confirm exact spelling and/or folder permissions/n\")\n",
        "      # repeat user_dir prompt\n",
        "      retry_dir = input(\"\\nTry again: Enter the directory you want to search exactly as you have it mapped on your computer: \")\n",
        "      user_dir = retry_dir\n",
        "      if os.path.exists(user_dir):\n",
        "      # confirm the user_dir search\n",
        "        print(f\"Searching {user_dir} for file contents and compiling data to file, this may take several minutes or several hours depending on size.\")\n",
        "        print(\"Please keep this window running in the background until complete...\")\n",
        "      else:\n",
        "        print(\"Cannot reach network drive. Exiting now...\")\n",
        "        exit()\n",
        "while answer not in (\"yes\", \"no\"):\n",
        "    answer = input(\"Enter yes or no: \")\n",
        "    if answer == \"yes\":\n",
        "      # confirm the user_dir search\n",
        "      print(f\"Searching {user_dir} for file contents and compiling data to file, this may take several minutes or several hours depending on size. /nPlease keep this window running in the background until complete...\")\n",
        "    elif answer == \"no\":\n",
        "      # repeat user_dir prompt\n",
        "      retry_dir = input(\"\\nTry again: Enter the directory you want to search exactly as you have it mapped on your computer: \")\n",
        "      user_dir = retry_dir\n",
        "      if os.path.exists(user_dir):\n",
        "      # confirm the user_dir search\n",
        "        print(f\"Searching {user_dir} for file contents and compiling data to file, this may take several minutes or several hours depending on size.\")\n",
        "        print(\"Please keep this window running in the background until complete...\")\n",
        "      else:\n",
        "        print(\"Cannot reach network drive. Exiting now...\")\n",
        "        exit()\n",
        "      break\n",
        "    else:\n",
        "    \tprint(\"Please enter yes or no.\")"
      ]
    },
    {
      "cell_type": "code",
      "execution_count": null,
      "metadata": {
        "id": "BgbxjDpgzBpf"
      },
      "outputs": [],
      "source": [
        "# search word docs\n",
        "match_items = []\n",
        "file_names = os.listdir(user_dir)\n",
        "docx_names = [file for file in file_names if file.endswith('.docx')]\n",
        "docx_names = [os.path.join(user_dir, file) for file in docx_names]\n",
        "\n",
        "for file in docx_names:\n",
        "    document = Document(file)\n",
        "    for paragraph in document.paragraphs:\n",
        "        for kw in keywords:\n",
        "            regex = re.compile(kw)\n",
        "            if regex.search(paragraph.text):\n",
        "            #if kw in paragraph.text:\n",
        "                match_items.append([file, kw])\n",
        "\n",
        "searched_df = pd.DataFrame(\n",
        "    match_items,\n",
        "    columns=['file_name', 'keyword_match'],\n",
        "    index=[i[0] for i in match_items]\n",
        ")\n",
        "\n",
        "print(searched_df)\n",
        "searched_df.to_csv(SaveName, index=False)"
      ]
    },
    {
      "cell_type": "code",
      "execution_count": null,
      "metadata": {},
      "outputs": [],
      "source": [
        "match_pdf_items = []\n",
        "pdf_names = [file for file in file_names if file.endswith('.pdf')]\n",
        "pdf_names = [os.path.join(user_dir, file) for file in pdf_names]\n",
        "\n",
        "for file in pdf_names:\n",
        "  with open(file, 'rb') as f:\n",
        "    pdf_text = slate.PDF(f).text()\n",
        "    print(pdf_text)"
      ]
    },
    {
      "cell_type": "code",
      "execution_count": null,
      "metadata": {},
      "outputs": [],
      "source": [
        "match_pdf_items = []\n",
        "pdf_names = [file for file in file_names if file.endswith('.pdf')]\n",
        "pdf_names = [os.path.join(user_dir, file) for file in pdf_names]\n",
        "\n",
        "for file in pdf_names:\n",
        "  with open(file, 'rb') as f:\n",
        "    pdf_text = slate.PDF(f).text()  \n",
        "    for kw in keywords:\n",
        "      regex = re.compile(kw)\n",
        "      if regex.search(pdf_text):\n",
        "        match_pdf_items.append([file, kw])\n",
        "\n",
        "searched_pdf = pd.DataFrame(\n",
        "    match_pdf_items,\n",
        "    columns=['file_name', 'keyword_match'],\n",
        "    index=[i[0] for i in match_pdf_items]\n",
        ")\n",
        "\n",
        "print(searched_pdf)\n",
        "searched_pdf.to_csv(SaveName, mode='a', index=False, header=False)"
      ]
    },
    {
      "cell_type": "code",
      "execution_count": null,
      "metadata": {},
      "outputs": [],
      "source": [
        "match_excel_items = []\n",
        "excel_names = [file for file in file_names if file.endswith('.xlsx')]\n",
        "excel_names = [os.path.join(user_dir, file) for file in excel_names]\n",
        "\n",
        "for file in excel_names:\n",
        "  wb = openpyxl.load_workbook(file)\n",
        "  for ws in wb.worksheets:\n",
        "    for row in ws.iter_rows():\n",
        "      for cell in row:\n",
        "        for kw in keywords:\n",
        "          regex = re.compile(kw)\n",
        "          if regex.search(cell.value):\n",
        "            match_excel_items.append([file, kw])\n",
        "\n",
        "searched_excel = pd.DataFrame(\n",
        "    match_excel_items,\n",
        "    columns=['file_name', 'keyword_match'],\n",
        "    index=[i[0] for i in match_excel_items]\n",
        ")\n",
        "\n",
        "print(searched_excel)\n",
        "searched_excel.to_csv(SaveName, mode='a', index=False, header=False)"
      ]
    },
    {
      "cell_type": "code",
      "execution_count": null,
      "metadata": {},
      "outputs": [],
      "source": [
        "match_csv_items = []\n",
        "csv_names = [file for file in file_names if file.endswith('.csv')]\n",
        "csv_names = [os.path.join(user_dir, file) for file in csv_names]\n",
        "\n",
        "for file in csv_names:\n",
        "    with open(file, 'rt') as f:\n",
        "        reader = csv.reader(f)\n",
        "        for row in reader:\n",
        "            for field in row:\n",
        "                for kw in keywords:\n",
        "                    regex = re.compile(kw)\n",
        "                    if regex.search(field):\n",
        "                        match_csv_items.append([file, kw])\n",
        "\n",
        "searched_csv = pd.DataFrame(\n",
        "    match_csv_items,\n",
        "    columns=['file_name', 'keyword_match'],\n",
        "    index=[i[0] for i in match_csv_items]\n",
        ")\n",
        "\n",
        "print(searched_csv)\n",
        "searched_csv.to_csv(SaveName, mode='a', index=False, header=False)"
      ]
    },
    {
      "cell_type": "code",
      "execution_count": null,
      "metadata": {},
      "outputs": [],
      "source": [
        "match_text_items = []\n",
        "text_names = [file for file in file_names if file.endswith('.txt')]\n",
        "text_names = [os.path.join(user_dir, file) for file in text_names]\n",
        "\n",
        "for file in text_names:\n",
        "    with open(file, 'r') as f:\n",
        "        content = f.read()\n",
        "        for kw in keywords:\n",
        "            regex = re.compile(kw)\n",
        "            if regex.search(content):\n",
        "                match_text_items.append([file, kw])\n",
        "\n",
        "searched_text = pd.DataFrame(\n",
        "    match_text_items,\n",
        "    columns=['file_name', 'keyword_match'],\n",
        "    index=[i[0] for i in match_text_items]\n",
        ")\n",
        "\n",
        "print(searched_text)\n",
        "searched_text.to_csv(SaveName, mode='a', index=False, header=False)"
      ]
    }
  ],
  "metadata": {
    "colab": {
      "provenance": []
    },
    "kernelspec": {
      "display_name": "Python 3",
      "name": "python3"
    },
    "language_info": {
      "codemirror_mode": {
        "name": "ipython",
        "version": 3
      },
      "file_extension": ".py",
      "mimetype": "text/x-python",
      "name": "python",
      "nbconvert_exporter": "python",
      "pygments_lexer": "ipython3",
      "version": "3.11.4"
    }
  },
  "nbformat": 4,
  "nbformat_minor": 0
}
