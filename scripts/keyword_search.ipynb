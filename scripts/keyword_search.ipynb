{
<<<<<<< HEAD
  "cells": [
    {
      "cell_type": "code",
      "execution_count": 34,
      "metadata": {
        "id": "H0GqrAzvmhx-"
      },
      "outputs": [],
      "source": [
        "# import python libraries\n",
        "import os\n",
        "import re\n",
        "from datetime import datetime\n",
        "from glob import glob\n",
        "from fnmatch import fnmatch\n",
        "import pandas as pd\n",
        "from docx import Document\n",
        "import slate3k as slate\n",
        "import openpyxl\n",
        "import csv"
      ]
    },
    {
      "cell_type": "code",
      "execution_count": 2,
      "metadata": {
        "id": "CjLK3tuNnQgf"
      },
      "outputs": [
        {
          "name": "stdout",
          "output_type": "stream",
          "text": [
            "Things to know before proceeding:\n",
            "1. You must be connected to the BCGOV network by VPN or ethernet cable.\n",
            "2. You need to have OneDrive set up because your search results will be saved there as a CSV file.\n",
            "3. This script uses REGEX to find specific content within files. If you are adding new keywords to the search, you may want to visit https://www.dataquest.io/blog/regex-cheatsheet/.\n",
            "\n",
            "\n"
          ]
        }
      ],
      "source": [
        "# put cautions at the start of script execution\n",
        "print(\"Things to know before proceeding:\")\n",
        "print(\"1. You must be connected to the BCGOV network by VPN or ethernet cable.\")\n",
        "print(\"2. You need to have OneDrive set up because your search results will be saved there as a CSV file.\")\n",
        "print(\"3. This script uses REGEX to find specific content within files. If you are adding new keywords to the search, you may want to visit https://www.dataquest.io/blog/regex-cheatsheet/.\")\n",
        "print(\"\\n\")"
      ]
    },
    {
      "cell_type": "code",
      "execution_count": 3,
      "metadata": {
        "id": "0poFuW7RsNK8"
      },
      "outputs": [],
      "source": [
        "# set the date formatting\n",
        "now = datetime.now()\n",
        "dt_string = now.strftime(\"%Y-%b-%d-%H%M%S\")"
      ]
    },
    {
      "cell_type": "code",
      "execution_count": 11,
      "metadata": {
        "id": "jO5aZUPOruWy"
      },
      "outputs": [],
      "source": [
        "# set the file paths\n",
        "UserName = os.environ.get('USERNAME')\n",
        "\n",
        "OneDrive = f\"C:/Users/{UserName}/OneDrive - Government of BC\"\n",
        "if not os.path.exists(OneDrive):\n",
        "  print(\"Please enable OneDrive before running this script\")\n",
        "  exit()\n",
        "\n",
        "SavePath = f\"C:/Users/{UserName}/OneDrive - Government of BC/Optimize\"\n",
        "if not os.path.exists(SavePath):\n",
        "  os.makedirs(SavePath)\n",
        "\n",
        "SaveName = f\"{SavePath}/filtered_path_report_\" + dt_string + \".csv\""
      ]
    },
    {
      "cell_type": "code",
      "execution_count": 5,
      "metadata": {
        "id": "u-4Gv8sCr1Kj"
      },
      "outputs": [
        {
          "name": "stdout",
          "output_type": "stream",
          "text": [
            "The keyword list is: \n",
            "\n",
            "0 ^first aid$|^First aid$|^First Aid$\n",
            "1 [6][A]|[6][a]\n",
            "2 SIRP|sirp\n",
            "3 \\btrauma|\\bTrauma\n",
            "4 \\bbully|\\bBully\n",
            "5 \\bbullied|\\Bullied\n",
            "6 \\bharass|\\bHarass\n",
            "7 \\bsuicid|\\bSuicid\n",
            "8 \\bassault|\\bAssault\n",
            "9 \\babus|\\bAbus\n"
          ]
        }
      ],
      "source": [
        "keywords = [\"^first aid$|^First aid$|^First Aid$\",\"[6][A]|[6][a]\",\"SIRP|sirp\",r\"\\btrauma|\\bTrauma\",r\"\\bbully|\\bBully\",r\"\\bbullied|\\Bullied\",r\"\\bharass|\\bHarass\",r\"\\bsuicid|\\bSuicid\",r\"\\bassault|\\bAssault\",r\"\\babus|\\bAbus\"]\n",
        "\n",
        "print(f\"The keyword list is: \\n\")\n",
        "for (i, item) in enumerate(keywords, start=0):\n",
        "    print(i, item)"
      ]
    },
    {
      "cell_type": "code",
      "execution_count": 6,
      "metadata": {
        "id": "rVCSTVG4zgt2"
      },
      "outputs": [
        {
          "name": "stdout",
          "output_type": "stream",
          "text": [
            "\n",
            "OK, no additions will be made.\n"
          ]
        }
      ],
      "source": [
        "keywords_answer = input(\"Do you want to add more keywords to the existing list? \")\n",
        "\n",
        "if keywords_answer == \"yes\":\n",
        "  # add new keywords to list\n",
        "  add_keywords = list()\n",
        "  add_keywords = input(\"Add extra keywords, separated by commas:\\n\").split(', ')\n",
        "  #keywords.append(add_keywords)\n",
        "  keywords.extend(add_keywords)\n",
        "  print(\"\\nThe updated keyword list is: \")\n",
        "  for (i, item) in enumerate(keywords, start=0):\n",
        "    print(i, item)\n",
        "elif keywords_answer == \"no\":\n",
        "  print(f\"\\nOK, no additions will be made.\")\n",
        "\n",
        "while keywords_answer not in (\"yes\", \"no\"):\n",
        "    keywords_answer = input(\"Enter yes or no: \")\n",
        "    if keywords_answer == \"yes\":\n",
        "      add_keywords = list()\n",
        "      add_keywords = input(\"\\nAdd extra keywords, separated by commas: \").split(', ')\n",
        "      keywords.extend(add_keywords)\n",
        "      print(\"\\nThe updated keyword list is: \")\n",
        "      for (i, item) in enumerate(keywords, start=0):\n",
        "        print(i, item)\n",
        "    elif keywords_answer == \"no\":\n",
        "      print(f\"\\nOK, no additions will be made.\")\n",
        "      break\n",
        "    else:\n",
        "    \tprint(\"Please enter yes or no.\")"
      ]
    },
    {
      "cell_type": "code",
      "execution_count": 7,
      "metadata": {
        "id": "jO9uMrxtz5XU"
      },
      "outputs": [
        {
          "name": "stdout",
          "output_type": "stream",
          "text": [
            "\n",
            "OK, no removals will be made.\n"
          ]
        }
      ],
      "source": [
        "keywords_next = input(\"Do you want to remove keywords from the existing list? \")\n",
        "\n",
        "if keywords_next == \"yes\":\n",
        "  #remove keywords from list\n",
        "  remove_keywords = list()\n",
        "  remove_keywords = input(\"\\nEnter the keywords you want removed exactly as they were listed earlier, separated by commas: \").split(', ')\n",
        "\n",
        "  # looping list of numbers to remove\n",
        "  for word in remove_keywords:\n",
        "    # remove it from the list\n",
        "    while word in keywords:\n",
        "        keywords.remove(word)\n",
        "\n",
        "  print(\"\\nThe updated keyword list is: \")\n",
        "  for (i, item) in enumerate(keywords, start=0):\n",
        "    print(i, item)\n",
        "\n",
        "elif keywords_next == \"no\":\n",
        "    print(f\"\\nOK, no removals will be made.\")\n",
        "\n",
        "while keywords_next not in (\"yes\", \"no\"):\n",
        "    keywords_next = input(\"Enter yes or no: \")\n",
        "\n",
        "    if keywords_next == \"yes\":\n",
        "      #remove keywords from list\n",
        "      remove_keywords = list()\n",
        "      remove_keywords = input(\"\\nEnter the keywords you want removed exactly as they were listed earlier, separated by commas: \").split(', ')\n",
        "\n",
        "      # looping list of numbers to remove\n",
        "      for word in remove_keywords:\n",
        "        # remove it from the list\n",
        "        while word in keywords:\n",
        "          keywords.remove(word)\n",
        "\n",
        "      print(\"\\nThe updated keyword list is: \")\n",
        "      for (i, item) in enumerate(keywords, start=0):\n",
        "        print(i, item)\n",
        "\n",
        "    elif keywords_next == \"no\":\n",
        "      print(f\"\\nOK, no removals will be made.\")\n",
        "      break\n",
        "    else:\n",
        "    \tprint(\"Please enter yes or no.\")"
      ]
    },
    {
      "cell_type": "code",
      "execution_count": 8,
      "metadata": {
        "id": "z-HdGCG3qUg9"
      },
      "outputs": [
        {
          "name": "stdout",
          "output_type": "stream",
          "text": [
            "Searching P:\\Test_Folder_HH for file contents and compiling data to file, this may take several minutes or several hours depending on size.\n",
            "Please keep this window running in the background until complete...\n"
          ]
        }
      ],
      "source": [
        "user_dir = input(\"\\nEnter the directory you want to search exactly as you have it mapped on your computer: \")\n",
        "\n",
        "answer = input(f\"\\nIs {user_dir} the correct directory? \")\n",
        "\n",
        "if answer == \"yes\":\n",
        "  # check that the path exists\n",
        "  if os.path.exists(user_dir):\n",
        "  # confirm the user_dir search\n",
        "    print(f\"Searching {user_dir} for file contents and compiling data to file, this may take several minutes or several hours depending on size.\")\n",
        "    print(\"Please keep this window running in the background until complete...\")\n",
        "  else:\n",
        "    print(\"Cannot reach network drive. Please check your exact path name and ensure you have permission to access this drive and/or folder./n\")\n",
        "    # repeat user_dir prompt\n",
        "    retry_dir = input(\"\\nTry again: Enter the directory you want to search exactly as you have it mapped on your computer: \")\n",
        "    user_dir = retry_dir\n",
        "    if os.path.exists(user_dir):\n",
        "    # confirm the user_dir search\n",
        "      print(f\"Searching {user_dir} for file contents and compiling data to file, this may take several minutes or several hours depending on size.\")\n",
        "      print(\"Please keep this window running in the background until complete...\")\n",
        "    else:\n",
        "      print(\"Cannot reach network drive. Exiting now...\")\n",
        "      exit()\n",
        "elif answer == \"no\":\n",
        "  # repeat user_dir prompt\n",
        "  retry_dir = input(\"\\nTry again: Enter the directory you want to search exactly as you have it mapped on your computer: \")\n",
        "  user_dir = retry_dir\n",
        "  if os.path.exists(user_dir):\n",
        "    # confirm the user_dir search\n",
        "    print(f\"Searching {user_dir} for file contents and compiling data to file, this may take several minutes or several hours depending on size.\")\n",
        "    print(\"Please keep this window running in the background until complete...\")\n",
        "  else:\n",
        "      print(\"Cannot reach \", user_dir, \" please confirm exact spelling and/or folder permissions/n\")\n",
        "      # repeat user_dir prompt\n",
        "      retry_dir = input(\"\\nTry again: Enter the directory you want to search exactly as you have it mapped on your computer: \")\n",
        "      user_dir = retry_dir\n",
        "      if os.path.exists(user_dir):\n",
        "      # confirm the user_dir search\n",
        "        print(f\"Searching {user_dir} for file contents and compiling data to file, this may take several minutes or several hours depending on size.\")\n",
        "        print(\"Please keep this window running in the background until complete...\")\n",
        "      else:\n",
        "        print(\"Cannot reach network drive. Exiting now...\")\n",
        "        exit()\n",
        "while answer not in (\"yes\", \"no\"):\n",
        "    answer = input(\"Enter yes or no: \")\n",
        "    if answer == \"yes\":\n",
        "      # confirm the user_dir search\n",
        "      print(f\"Searching {user_dir} for file contents and compiling data to file, this may take several minutes or several hours depending on size. /nPlease keep this window running in the background until complete...\")\n",
        "    elif answer == \"no\":\n",
        "      # repeat user_dir prompt\n",
        "      retry_dir = input(\"\\nTry again: Enter the directory you want to search exactly as you have it mapped on your computer: \")\n",
        "      user_dir = retry_dir\n",
        "      if os.path.exists(user_dir):\n",
        "      # confirm the user_dir search\n",
        "        print(f\"Searching {user_dir} for file contents and compiling data to file, this may take several minutes or several hours depending on size.\")\n",
        "        print(\"Please keep this window running in the background until complete...\")\n",
        "      else:\n",
        "        print(\"Cannot reach network drive. Exiting now...\")\n",
        "        exit()\n",
        "      break\n",
        "    else:\n",
        "    \tprint(\"Please enter yes or no.\")"
      ]
    },
    {
      "cell_type": "code",
      "execution_count": 12,
      "metadata": {
        "id": "BgbxjDpgzBpf"
      },
      "outputs": [
        {
          "name": "stdout",
          "output_type": "stream",
          "text": [
            "                                                 file_name  \\\n",
            "P:\\Test_Folder_HH\\test1.docx  P:\\Test_Folder_HH\\test1.docx   \n",
            "P:\\Test_Folder_HH\\test1.docx  P:\\Test_Folder_HH\\test1.docx   \n",
            "P:\\Test_Folder_HH\\test1.docx  P:\\Test_Folder_HH\\test1.docx   \n",
            "P:\\Test_Folder_HH\\test2.docx  P:\\Test_Folder_HH\\test2.docx   \n",
            "P:\\Test_Folder_HH\\test2.docx  P:\\Test_Folder_HH\\test2.docx   \n",
            "P:\\Test_Folder_HH\\test3.docx  P:\\Test_Folder_HH\\test3.docx   \n",
            "P:\\Test_Folder_HH\\test3.docx  P:\\Test_Folder_HH\\test3.docx   \n",
            "P:\\Test_Folder_HH\\test3.docx  P:\\Test_Folder_HH\\test3.docx   \n",
            "P:\\Test_Folder_HH\\test3.docx  P:\\Test_Folder_HH\\test3.docx   \n",
            "P:\\Test_Folder_HH\\test4.docx  P:\\Test_Folder_HH\\test4.docx   \n",
            "P:\\Test_Folder_HH\\test4.docx  P:\\Test_Folder_HH\\test4.docx   \n",
            "P:\\Test_Folder_HH\\test4.docx  P:\\Test_Folder_HH\\test4.docx   \n",
            "P:\\Test_Folder_HH\\test5.docx  P:\\Test_Folder_HH\\test5.docx   \n",
            "P:\\Test_Folder_HH\\test6.docx  P:\\Test_Folder_HH\\test6.docx   \n",
            "P:\\Test_Folder_HH\\test6.docx  P:\\Test_Folder_HH\\test6.docx   \n",
            "P:\\Test_Folder_HH\\test7.docx  P:\\Test_Folder_HH\\test7.docx   \n",
            "P:\\Test_Folder_HH\\test8.docx  P:\\Test_Folder_HH\\test8.docx   \n",
            "P:\\Test_Folder_HH\\test8.docx  P:\\Test_Folder_HH\\test8.docx   \n",
            "P:\\Test_Folder_HH\\test9.docx  P:\\Test_Folder_HH\\test9.docx   \n",
            "\n",
            "                                                    keyword_match  \n",
            "P:\\Test_Folder_HH\\test1.docx                        [6][A]|[6][a]  \n",
            "P:\\Test_Folder_HH\\test1.docx                        [6][A]|[6][a]  \n",
            "P:\\Test_Folder_HH\\test1.docx                        [6][A]|[6][a]  \n",
            "P:\\Test_Folder_HH\\test2.docx                    \\btrauma|\\bTrauma  \n",
            "P:\\Test_Folder_HH\\test2.docx                        [6][A]|[6][a]  \n",
            "P:\\Test_Folder_HH\\test3.docx                    \\bharass|\\bHarass  \n",
            "P:\\Test_Folder_HH\\test3.docx                    \\bharass|\\bHarass  \n",
            "P:\\Test_Folder_HH\\test3.docx                    \\bharass|\\bHarass  \n",
            "P:\\Test_Folder_HH\\test3.docx                  \\bassault|\\bAssault  \n",
            "P:\\Test_Folder_HH\\test4.docx  ^first aid$|^First aid$|^First Aid$  \n",
            "P:\\Test_Folder_HH\\test4.docx  ^first aid$|^First aid$|^First Aid$  \n",
            "P:\\Test_Folder_HH\\test4.docx  ^first aid$|^First aid$|^First Aid$  \n",
            "P:\\Test_Folder_HH\\test5.docx                            SIRP|sirp  \n",
            "P:\\Test_Folder_HH\\test6.docx                      \\bbully|\\bBully  \n",
            "P:\\Test_Folder_HH\\test6.docx                            SIRP|sirp  \n",
            "P:\\Test_Folder_HH\\test7.docx                    \\bsuicid|\\bSuicid  \n",
            "P:\\Test_Folder_HH\\test8.docx                  \\bassault|\\bAssault  \n",
            "P:\\Test_Folder_HH\\test8.docx                        \\babus|\\bAbus  \n",
            "P:\\Test_Folder_HH\\test9.docx                        \\babus|\\bAbus  \n"
          ]
        }
      ],
      "source": [
        "# search word docs\n",
        "match_items = []\n",
        "file_names = os.listdir(user_dir)\n",
        "docx_names = [file for file in file_names if file.endswith('.docx')]\n",
        "docx_names = [os.path.join(user_dir, file) for file in docx_names]\n",
        "\n",
        "for file in docx_names:\n",
        "    document = Document(file)\n",
        "    for paragraph in document.paragraphs:\n",
        "        for kw in keywords:\n",
        "            regex = re.compile(kw)\n",
        "            if regex.search(paragraph.text):\n",
        "            #if kw in paragraph.text:\n",
        "                match_items.append([file, kw])\n",
        "\n",
        "searched_df = pd.DataFrame(\n",
        "    match_items,\n",
        "    columns=['file_name', 'keyword_match'],\n",
        "    index=[i[0] for i in match_items]\n",
        ")\n",
        "\n",
        "print(searched_df)\n",
        "searched_df.to_csv(SaveName, index=False)"
      ]
    },
    {
      "cell_type": "code",
      "execution_count": 12,
      "metadata": {},
      "outputs": [
        {
          "name": "stdout",
          "output_type": "stream",
          "text": [
            "abuse \n",
            "Traumatic 6a \n",
            "Harassment Harass harassment Assault \n",
            "ﬁrst aid First Aid First aid ﬁrst Aid \n",
            "SIRP \n",
            "SIRP \n",
            "Bullying sirp \n",
            "suicide \n",
            "assault abused \n"
          ]
        }
      ],
      "source": [
        "match_pdf_items = []\n",
        "pdf_names = [file for file in file_names if file.endswith('.pdf')]\n",
        "pdf_names = [os.path.join(user_dir, file) for file in pdf_names]\n",
        "\n",
        "for file in pdf_names:\n",
        "  with open(file, 'rb') as f:\n",
        "    pdf_text = slate.PDF(f).text()\n",
        "    print(pdf_text)"
      ]
    },
    {
      "cell_type": "code",
      "execution_count": 19,
      "metadata": {},
      "outputs": [
        {
          "name": "stdout",
          "output_type": "stream",
          "text": [
            "                                                     file_name  \\\n",
            "P:\\Test_Folder_HH\\PDFtest1.pdf  P:\\Test_Folder_HH\\PDFtest1.pdf   \n",
            "P:\\Test_Folder_HH\\PDFtest2.pdf  P:\\Test_Folder_HH\\PDFtest2.pdf   \n",
            "P:\\Test_Folder_HH\\PDFtest2.pdf  P:\\Test_Folder_HH\\PDFtest2.pdf   \n",
            "P:\\Test_Folder_HH\\PDFtest3.pdf  P:\\Test_Folder_HH\\PDFtest3.pdf   \n",
            "P:\\Test_Folder_HH\\PDFtest3.pdf  P:\\Test_Folder_HH\\PDFtest3.pdf   \n",
            "P:\\Test_Folder_HH\\PDFtest5.pdf  P:\\Test_Folder_HH\\PDFtest5.pdf   \n",
            "P:\\Test_Folder_HH\\PDFtest6.pdf  P:\\Test_Folder_HH\\PDFtest6.pdf   \n",
            "P:\\Test_Folder_HH\\PDFtest7.pdf  P:\\Test_Folder_HH\\PDFtest7.pdf   \n",
            "P:\\Test_Folder_HH\\PDFtest7.pdf  P:\\Test_Folder_HH\\PDFtest7.pdf   \n",
            "P:\\Test_Folder_HH\\PDFtest8.pdf  P:\\Test_Folder_HH\\PDFtest8.pdf   \n",
            "P:\\Test_Folder_HH\\PDFtest9.pdf  P:\\Test_Folder_HH\\PDFtest9.pdf   \n",
            "P:\\Test_Folder_HH\\PDFtest9.pdf  P:\\Test_Folder_HH\\PDFtest9.pdf   \n",
            "\n",
            "                                      keyword_match  \n",
            "P:\\Test_Folder_HH\\PDFtest1.pdf        \\babus|\\bAbus  \n",
            "P:\\Test_Folder_HH\\PDFtest2.pdf        [6][A]|[6][a]  \n",
            "P:\\Test_Folder_HH\\PDFtest2.pdf    \\btrauma|\\bTrauma  \n",
            "P:\\Test_Folder_HH\\PDFtest3.pdf    \\bharass|\\bHarass  \n",
            "P:\\Test_Folder_HH\\PDFtest3.pdf  \\bassault|\\bAssault  \n",
            "P:\\Test_Folder_HH\\PDFtest5.pdf            SIRP|sirp  \n",
            "P:\\Test_Folder_HH\\PDFtest6.pdf            SIRP|sirp  \n",
            "P:\\Test_Folder_HH\\PDFtest7.pdf            SIRP|sirp  \n",
            "P:\\Test_Folder_HH\\PDFtest7.pdf      \\bbully|\\bBully  \n",
            "P:\\Test_Folder_HH\\PDFtest8.pdf    \\bsuicid|\\bSuicid  \n",
            "P:\\Test_Folder_HH\\PDFtest9.pdf  \\bassault|\\bAssault  \n",
            "P:\\Test_Folder_HH\\PDFtest9.pdf        \\babus|\\bAbus  \n"
          ]
        }
      ],
      "source": [
        "match_pdf_items = []\n",
        "pdf_names = [file for file in file_names if file.endswith('.pdf')]\n",
        "pdf_names = [os.path.join(user_dir, file) for file in pdf_names]\n",
        "\n",
        "for file in pdf_names:\n",
        "  with open(file, 'rb') as f:\n",
        "    pdf_text = slate.PDF(f).text()  \n",
        "    for kw in keywords:\n",
        "      regex = re.compile(kw)\n",
        "      if regex.search(pdf_text):\n",
        "        match_pdf_items.append([file, kw])\n",
        "\n",
        "searched_pdf = pd.DataFrame(\n",
        "    match_pdf_items,\n",
        "    columns=['file_name', 'keyword_match'],\n",
        "    index=[i[0] for i in match_pdf_items]\n",
        ")\n",
        "\n",
        "print(searched_pdf)\n",
        "searched_pdf.to_csv(SaveName, mode='a', index=False, header=False)"
      ]
    },
    {
      "cell_type": "code",
      "execution_count": 33,
      "metadata": {},
      "outputs": [
        {
          "name": "stdout",
          "output_type": "stream",
          "text": [
            "                                                               file_name  \\\n",
            "P:\\Test_Folder_HH\\Excel_Test1.xlsx    P:\\Test_Folder_HH\\Excel_Test1.xlsx   \n",
            "P:\\Test_Folder_HH\\Excel_Test10.xlsx  P:\\Test_Folder_HH\\Excel_Test10.xlsx   \n",
            "P:\\Test_Folder_HH\\Excel_Test10.xlsx  P:\\Test_Folder_HH\\Excel_Test10.xlsx   \n",
            "P:\\Test_Folder_HH\\Excel_Test2.xlsx    P:\\Test_Folder_HH\\Excel_Test2.xlsx   \n",
            "P:\\Test_Folder_HH\\Excel_Test3.xlsx    P:\\Test_Folder_HH\\Excel_Test3.xlsx   \n",
            "P:\\Test_Folder_HH\\Excel_Test3.xlsx    P:\\Test_Folder_HH\\Excel_Test3.xlsx   \n",
            "P:\\Test_Folder_HH\\Excel_Test4.xlsx    P:\\Test_Folder_HH\\Excel_Test4.xlsx   \n",
            "P:\\Test_Folder_HH\\Excel_Test4.xlsx    P:\\Test_Folder_HH\\Excel_Test4.xlsx   \n",
            "P:\\Test_Folder_HH\\Excel_Test5.xlsx    P:\\Test_Folder_HH\\Excel_Test5.xlsx   \n",
            "P:\\Test_Folder_HH\\Excel_Test5.xlsx    P:\\Test_Folder_HH\\Excel_Test5.xlsx   \n",
            "P:\\Test_Folder_HH\\Excel_Test6.xlsx    P:\\Test_Folder_HH\\Excel_Test6.xlsx   \n",
            "P:\\Test_Folder_HH\\Excel_Test6.xlsx    P:\\Test_Folder_HH\\Excel_Test6.xlsx   \n",
            "P:\\Test_Folder_HH\\Excel_Test7.xlsx    P:\\Test_Folder_HH\\Excel_Test7.xlsx   \n",
            "P:\\Test_Folder_HH\\Excel_Test7.xlsx    P:\\Test_Folder_HH\\Excel_Test7.xlsx   \n",
            "P:\\Test_Folder_HH\\Excel_Test8.xlsx    P:\\Test_Folder_HH\\Excel_Test8.xlsx   \n",
            "P:\\Test_Folder_HH\\Excel_Test8.xlsx    P:\\Test_Folder_HH\\Excel_Test8.xlsx   \n",
            "P:\\Test_Folder_HH\\Excel_Test9.xlsx    P:\\Test_Folder_HH\\Excel_Test9.xlsx   \n",
            "P:\\Test_Folder_HH\\Excel_Test9.xlsx    P:\\Test_Folder_HH\\Excel_Test9.xlsx   \n",
            "\n",
            "                                                           keyword_match  \n",
            "P:\\Test_Folder_HH\\Excel_Test1.xlsx   ^first aid$|^First aid$|^First Aid$  \n",
            "P:\\Test_Folder_HH\\Excel_Test10.xlsx                        \\babus|\\bAbus  \n",
            "P:\\Test_Folder_HH\\Excel_Test10.xlsx                        \\babus|\\bAbus  \n",
            "P:\\Test_Folder_HH\\Excel_Test2.xlsx   ^first aid$|^First aid$|^First Aid$  \n",
            "P:\\Test_Folder_HH\\Excel_Test3.xlsx                         [6][A]|[6][a]  \n",
            "P:\\Test_Folder_HH\\Excel_Test3.xlsx                         [6][A]|[6][a]  \n",
            "P:\\Test_Folder_HH\\Excel_Test4.xlsx                         [6][A]|[6][a]  \n",
            "P:\\Test_Folder_HH\\Excel_Test4.xlsx                             SIRP|sirp  \n",
            "P:\\Test_Folder_HH\\Excel_Test5.xlsx                             SIRP|sirp  \n",
            "P:\\Test_Folder_HH\\Excel_Test5.xlsx                     \\btrauma|\\bTrauma  \n",
            "P:\\Test_Folder_HH\\Excel_Test6.xlsx                       \\bbully|\\bBully  \n",
            "P:\\Test_Folder_HH\\Excel_Test6.xlsx                    \\bbullied|\\Bullied  \n",
            "P:\\Test_Folder_HH\\Excel_Test7.xlsx                     \\bharass|\\bHarass  \n",
            "P:\\Test_Folder_HH\\Excel_Test7.xlsx                     \\bharass|\\bHarass  \n",
            "P:\\Test_Folder_HH\\Excel_Test8.xlsx                     \\bsuicid|\\bSuicid  \n",
            "P:\\Test_Folder_HH\\Excel_Test8.xlsx                     \\bsuicid|\\bSuicid  \n",
            "P:\\Test_Folder_HH\\Excel_Test9.xlsx                   \\bassault|\\bAssault  \n",
            "P:\\Test_Folder_HH\\Excel_Test9.xlsx                   \\bassault|\\bAssault  \n"
          ]
        }
      ],
      "source": [
        "match_excel_items = []\n",
        "excel_names = [file for file in file_names if file.endswith('.xlsx')]\n",
        "excel_names = [os.path.join(user_dir, file) for file in excel_names]\n",
        "\n",
        "for file in excel_names:\n",
        "  wb = openpyxl.load_workbook(file)\n",
        "  for ws in wb.worksheets:\n",
        "    for row in ws.iter_rows():\n",
        "      for cell in row:\n",
        "        for kw in keywords:\n",
        "          regex = re.compile(kw)\n",
        "          if regex.search(cell.value):\n",
        "            match_excel_items.append([file, kw])\n",
        "\n",
        "searched_excel = pd.DataFrame(\n",
        "    match_excel_items,\n",
        "    columns=['file_name', 'keyword_match'],\n",
        "    index=[i[0] for i in match_excel_items]\n",
        ")\n",
        "\n",
        "print(searched_excel)\n",
        "searched_excel.to_csv(SaveName, mode='a', index=False, header=False)"
      ]
    },
    {
      "cell_type": "code",
      "execution_count": 36,
      "metadata": {},
      "outputs": [
        {
          "name": "stdout",
          "output_type": "stream",
          "text": [
            "                                                         file_name  \\\n",
            "P:\\Test_Folder_HH\\CSV_Test1.csv    P:\\Test_Folder_HH\\CSV_Test1.csv   \n",
            "P:\\Test_Folder_HH\\CSV_Test10.csv  P:\\Test_Folder_HH\\CSV_Test10.csv   \n",
            "P:\\Test_Folder_HH\\CSV_Test10.csv  P:\\Test_Folder_HH\\CSV_Test10.csv   \n",
            "P:\\Test_Folder_HH\\CSV_Test2.csv    P:\\Test_Folder_HH\\CSV_Test2.csv   \n",
            "P:\\Test_Folder_HH\\CSV_Test3.csv    P:\\Test_Folder_HH\\CSV_Test3.csv   \n",
            "P:\\Test_Folder_HH\\CSV_Test4.csv    P:\\Test_Folder_HH\\CSV_Test4.csv   \n",
            "P:\\Test_Folder_HH\\CSV_Test4.csv    P:\\Test_Folder_HH\\CSV_Test4.csv   \n",
            "P:\\Test_Folder_HH\\CSV_Test5.csv    P:\\Test_Folder_HH\\CSV_Test5.csv   \n",
            "P:\\Test_Folder_HH\\CSV_Test5.csv    P:\\Test_Folder_HH\\CSV_Test5.csv   \n",
            "P:\\Test_Folder_HH\\CSV_Test6.csv    P:\\Test_Folder_HH\\CSV_Test6.csv   \n",
            "P:\\Test_Folder_HH\\CSV_Test6.csv    P:\\Test_Folder_HH\\CSV_Test6.csv   \n",
            "P:\\Test_Folder_HH\\CSV_Test7.csv    P:\\Test_Folder_HH\\CSV_Test7.csv   \n",
            "P:\\Test_Folder_HH\\CSV_Test7.csv    P:\\Test_Folder_HH\\CSV_Test7.csv   \n",
            "P:\\Test_Folder_HH\\CSV_Test8.csv    P:\\Test_Folder_HH\\CSV_Test8.csv   \n",
            "P:\\Test_Folder_HH\\CSV_Test8.csv    P:\\Test_Folder_HH\\CSV_Test8.csv   \n",
            "P:\\Test_Folder_HH\\CSV_Test9.csv    P:\\Test_Folder_HH\\CSV_Test9.csv   \n",
            "P:\\Test_Folder_HH\\CSV_Test9.csv    P:\\Test_Folder_HH\\CSV_Test9.csv   \n",
            "\n",
            "                                                        keyword_match  \n",
            "P:\\Test_Folder_HH\\CSV_Test1.csv   ^first aid$|^First aid$|^First Aid$  \n",
            "P:\\Test_Folder_HH\\CSV_Test10.csv                        \\babus|\\bAbus  \n",
            "P:\\Test_Folder_HH\\CSV_Test10.csv                        \\babus|\\bAbus  \n",
            "P:\\Test_Folder_HH\\CSV_Test2.csv   ^first aid$|^First aid$|^First Aid$  \n",
            "P:\\Test_Folder_HH\\CSV_Test3.csv                         [6][A]|[6][a]  \n",
            "P:\\Test_Folder_HH\\CSV_Test4.csv                         [6][A]|[6][a]  \n",
            "P:\\Test_Folder_HH\\CSV_Test4.csv                             SIRP|sirp  \n",
            "P:\\Test_Folder_HH\\CSV_Test5.csv                             SIRP|sirp  \n",
            "P:\\Test_Folder_HH\\CSV_Test5.csv                     \\btrauma|\\bTrauma  \n",
            "P:\\Test_Folder_HH\\CSV_Test6.csv                       \\bbully|\\bBully  \n",
            "P:\\Test_Folder_HH\\CSV_Test6.csv                    \\bbullied|\\Bullied  \n",
            "P:\\Test_Folder_HH\\CSV_Test7.csv                     \\bharass|\\bHarass  \n",
            "P:\\Test_Folder_HH\\CSV_Test7.csv                     \\bharass|\\bHarass  \n",
            "P:\\Test_Folder_HH\\CSV_Test8.csv                     \\bsuicid|\\bSuicid  \n",
            "P:\\Test_Folder_HH\\CSV_Test8.csv                     \\bsuicid|\\bSuicid  \n",
            "P:\\Test_Folder_HH\\CSV_Test9.csv                   \\bassault|\\bAssault  \n",
            "P:\\Test_Folder_HH\\CSV_Test9.csv                   \\bassault|\\bAssault  \n"
          ]
        }
      ],
      "source": [
        "match_csv_items = []\n",
        "csv_names = [file for file in file_names if file.endswith('.csv')]\n",
        "csv_names = [os.path.join(user_dir, file) for file in csv_names]\n",
        "\n",
        "for file in csv_names:\n",
        "    with open(file, 'rt') as f:\n",
        "        reader = csv.reader(f)\n",
        "        for row in reader:\n",
        "            for field in row:\n",
        "                for kw in keywords:\n",
        "                    regex = re.compile(kw)\n",
        "                    if regex.search(field):\n",
        "                        match_csv_items.append([file, kw])\n",
        "\n",
        "searched_csv = pd.DataFrame(\n",
        "    match_csv_items,\n",
        "    columns=['file_name', 'keyword_match'],\n",
        "    index=[i[0] for i in match_csv_items]\n",
        ")\n",
        "\n",
        "print(searched_csv)\n",
        "searched_csv.to_csv(SaveName, mode='a', index=False, header=False)"
      ]
    },
    {
      "cell_type": "code",
      "execution_count": 37,
      "metadata": {},
      "outputs": [
        {
          "name": "stdout",
          "output_type": "stream",
          "text": [
            "                                                         file_name  \\\n",
            "P:\\Test_Folder_HH\\Text_Test1.txt  P:\\Test_Folder_HH\\Text_Test1.txt   \n",
            "P:\\Test_Folder_HH\\Text_Test2.txt  P:\\Test_Folder_HH\\Text_Test2.txt   \n",
            "P:\\Test_Folder_HH\\Text_Test2.txt  P:\\Test_Folder_HH\\Text_Test2.txt   \n",
            "P:\\Test_Folder_HH\\Text_Test3.txt  P:\\Test_Folder_HH\\Text_Test3.txt   \n",
            "P:\\Test_Folder_HH\\Text_Test3.txt  P:\\Test_Folder_HH\\Text_Test3.txt   \n",
            "P:\\Test_Folder_HH\\Text_Test4.txt  P:\\Test_Folder_HH\\Text_Test4.txt   \n",
            "P:\\Test_Folder_HH\\Text_Test4.txt  P:\\Test_Folder_HH\\Text_Test4.txt   \n",
            "P:\\Test_Folder_HH\\Text_Test5.txt  P:\\Test_Folder_HH\\Text_Test5.txt   \n",
            "P:\\Test_Folder_HH\\Text_Test6.txt  P:\\Test_Folder_HH\\Text_Test6.txt   \n",
            "P:\\Test_Folder_HH\\Text_Test7.txt  P:\\Test_Folder_HH\\Text_Test7.txt   \n",
            "P:\\Test_Folder_HH\\Text_Test8.txt  P:\\Test_Folder_HH\\Text_Test8.txt   \n",
            "P:\\Test_Folder_HH\\Text_Test8.txt  P:\\Test_Folder_HH\\Text_Test8.txt   \n",
            "P:\\Test_Folder_HH\\Text_Test9.txt  P:\\Test_Folder_HH\\Text_Test9.txt   \n",
            "\n",
            "                                        keyword_match  \n",
            "P:\\Test_Folder_HH\\Text_Test1.txt        \\babus|\\bAbus  \n",
            "P:\\Test_Folder_HH\\Text_Test2.txt    \\bsuicid|\\bSuicid  \n",
            "P:\\Test_Folder_HH\\Text_Test2.txt  \\bassault|\\bAssault  \n",
            "P:\\Test_Folder_HH\\Text_Test3.txt    \\bharass|\\bHarass  \n",
            "P:\\Test_Folder_HH\\Text_Test3.txt    \\bsuicid|\\bSuicid  \n",
            "P:\\Test_Folder_HH\\Text_Test4.txt   \\bbullied|\\Bullied  \n",
            "P:\\Test_Folder_HH\\Text_Test4.txt    \\bharass|\\bHarass  \n",
            "P:\\Test_Folder_HH\\Text_Test5.txt      \\bbully|\\bBully  \n",
            "P:\\Test_Folder_HH\\Text_Test6.txt    \\btrauma|\\bTrauma  \n",
            "P:\\Test_Folder_HH\\Text_Test7.txt            SIRP|sirp  \n",
            "P:\\Test_Folder_HH\\Text_Test8.txt        [6][A]|[6][a]  \n",
            "P:\\Test_Folder_HH\\Text_Test8.txt            SIRP|sirp  \n",
            "P:\\Test_Folder_HH\\Text_Test9.txt        [6][A]|[6][a]  \n"
          ]
        }
      ],
      "source": [
        "match_text_items = []\n",
        "text_names = [file for file in file_names if file.endswith('.txt')]\n",
        "text_names = [os.path.join(user_dir, file) for file in text_names]\n",
        "\n",
        "for file in text_names:\n",
        "    with open(file, 'r') as f:\n",
        "        content = f.read()\n",
        "        for kw in keywords:\n",
        "            regex = re.compile(kw)\n",
        "            if regex.search(content):\n",
        "                match_text_items.append([file, kw])\n",
        "\n",
        "searched_text = pd.DataFrame(\n",
        "    match_text_items,\n",
        "    columns=['file_name', 'keyword_match'],\n",
        "    index=[i[0] for i in match_text_items]\n",
        ")\n",
        "\n",
        "print(searched_text)\n",
        "searched_text.to_csv(SaveName, mode='a', index=False, header=False)"
      ]
    }
  ],
  "metadata": {
    "colab": {
      "provenance": []
    },
    "kernelspec": {
      "display_name": "Python 3",
      "name": "python3"
    },
    "language_info": {
      "codemirror_mode": {
        "name": "ipython",
        "version": 3
      },
      "file_extension": ".py",
      "mimetype": "text/x-python",
      "name": "python",
      "nbconvert_exporter": "python",
      "pygments_lexer": "ipython3",
      "version": "3.11.4"
    }
  },
  "nbformat": 4,
  "nbformat_minor": 0
=======
 "cells": [
  {
   "attachments": {},
   "cell_type": "markdown",
   "metadata": {},
   "source": [
    "If this is your first time running this script, you need to update **classes.py** for the *slate3k* package in order for it to run properly. <br>\n",
    "You will find the file in C:\\Python311\\Lib\\site-packages\\slate3k. Open it, and change lines 58 and 59 to look like this: <br>\n",
    "\n",
    "``` \n",
    "       if not PYTHON_3:\n",
    "            self.doc = PDFDocument(self.parser)\n",
    "```"
   ]
  },
  {
   "cell_type": "code",
   "execution_count": 4,
   "metadata": {
    "id": "H0GqrAzvmhx-"
   },
   "outputs": [],
   "source": [
    "# import python libraries\n",
    "import os\n",
    "import re\n",
    "from datetime import datetime\n",
    "import pandas as pd\n",
    "from docx import Document\n",
    "import slate3k as slate\n",
    "import openpyxl\n",
    "import csv"
   ]
  },
  {
   "cell_type": "code",
   "execution_count": 24,
   "metadata": {
    "id": "CjLK3tuNnQgf"
   },
   "outputs": [
    {
     "name": "stdout",
     "output_type": "stream",
     "text": [
      "Things to know before proceeding:\n",
      "***********************************\n",
      "1. You must be connected to the BCGOV network by VPN or ethernet cable.\n",
      "2. You need to have OneDrive set up because your search results will be saved there as a CSV file.\n",
      "3. This script uses REGEX to find specific content within files. If you are adding new keywords to the search, you may want to visit https://www.dataquest.io/blog/regex-cheatsheet/.\n",
      "\n",
      "\n"
     ]
    }
   ],
   "source": [
    "# put cautions at the start of script execution\n",
    "print(\"Things to know before proceeding:\")\n",
    "print(\"*\"*35)\n",
    "print(\"1. You must be connected to the BCGOV network by VPN or ethernet cable.\")\n",
    "print(\n",
    "    \"2. You need to have OneDrive set up because your search results will be saved there as a CSV file.\"\n",
    ")\n",
    "print(\n",
    "    \"3. This script uses REGEX to find specific content within files. If you are adding new keywords to the search, you may want to visit https://www.dataquest.io/blog/regex-cheatsheet/.\"\n",
    ")\n",
    "print(\"\\n\")"
   ]
  },
  {
   "cell_type": "code",
   "execution_count": 6,
   "metadata": {
    "id": "jO5aZUPOruWy"
   },
   "outputs": [],
   "source": [
    "# set the file paths\n",
    "UserName = os.environ.get(\"USERNAME\")\n",
    "\n",
    "OneDrive = f\"C:/Users/{UserName}/OneDrive - Government of BC\"\n",
    "if not os.path.exists(OneDrive):\n",
    "    print(\"Please enable OneDrive before running this script\")\n",
    "    exit()\n",
    "\n",
    "SavePath = f\"C:/Users/{UserName}/OneDrive - Government of BC/Optimize\"\n",
    "if not os.path.exists(SavePath):\n",
    "    os.makedirs(SavePath)"
   ]
  },
  {
   "cell_type": "code",
   "execution_count": 7,
   "metadata": {
    "id": "u-4Gv8sCr1Kj"
   },
   "outputs": [
    {
     "name": "stdout",
     "output_type": "stream",
     "text": [
      "The keyword list is: \n",
      "\n",
      "0 ^first aid$|^First aid$|^First Aid$\n",
      "1 [6][A]|[6][a]\n",
      "2 SIRP|sirp\n",
      "3 \\btrauma|\\bTrauma\n",
      "4 \\bbully|\\bBully\n",
      "5 \\bbullied|\\Bullied\n",
      "6 \\bharass|\\bHarass\n",
      "7 \\bsuicid|\\bSuicid\n",
      "8 \\bassault|\\bAssault\n",
      "9 \\babus|\\bAbus\n"
     ]
    }
   ],
   "source": [
    "# set the keyword list\n",
    "keywords = [\n",
    "    \"^first aid$|^First aid$|^First Aid$\",\n",
    "    \"[6][A]|[6][a]\",\n",
    "    \"SIRP|sirp\",\n",
    "    r\"\\btrauma|\\bTrauma\",\n",
    "    r\"\\bbully|\\bBully\",\n",
    "    r\"\\bbullied|\\Bullied\",\n",
    "    r\"\\bharass|\\bHarass\",\n",
    "    r\"\\bsuicid|\\bSuicid\",\n",
    "    r\"\\bassault|\\bAssault\",\n",
    "    r\"\\babus|\\bAbus\",\n",
    "]\n",
    "\n",
    "print(f\"The keyword list is: \\n\")\n",
    "print(\"*\"*35)\n",
    "for i, item in enumerate(keywords, start=0):\n",
    "    print(i, item)"
   ]
  },
  {
   "cell_type": "code",
   "execution_count": 10,
   "metadata": {
    "id": "rVCSTVG4zgt2"
   },
   "outputs": [
    {
     "name": "stdout",
     "output_type": "stream",
     "text": [
      "\n",
      "OK, no additions will be made.\n",
      "\n"
     ]
    }
   ],
   "source": [
    "# prompt to add keywords\n",
    "keywords_answer = input(\"yes or no: Do you want to add more keywords to the existing list? \")\n",
    "\n",
    "if keywords_answer == \"yes\":\n",
    "    # add new keywords to list\n",
    "    add_keywords = list()\n",
    "    add_keywords = input(\"Add extra keywords, separated by commas:\\n\").split(\", \")\n",
    "    # keywords.append(add_keywords)\n",
    "    keywords.extend(add_keywords)\n",
    "    print(\"\\nThe updated keyword list is: \")\n",
    "    print(\"*\"*35)\n",
    "    for i, item in enumerate(keywords, start=0):\n",
    "        print(i, item)\n",
    "elif keywords_answer == \"no\":\n",
    "    print(\"\\nOK, no additions will be made.\\n\")\n",
    "\n",
    "while keywords_answer not in (\"yes\", \"no\"):\n",
    "    keywords_answer = input(\"Enter yes or no: \")\n",
    "    if keywords_answer == \"yes\":\n",
    "        add_keywords = list()\n",
    "        add_keywords = input(\"\\nAdd extra keywords, separated by commas: \").split(\", \")\n",
    "        keywords.extend(add_keywords)\n",
    "        print(\"\\nThe updated keyword list is: \")\n",
    "        print(\"*\"*35)\n",
    "        for i, item in enumerate(keywords, start=0):\n",
    "            print(i, item)\n",
    "    elif keywords_answer == \"no\":\n",
    "        print(\"\\nOK, no additions will be made.\\n\")\n",
    "        break\n",
    "    else:\n",
    "        print(\"Please enter yes or no.\")"
   ]
  },
  {
   "cell_type": "code",
   "execution_count": 11,
   "metadata": {
    "id": "jO9uMrxtz5XU"
   },
   "outputs": [
    {
     "name": "stdout",
     "output_type": "stream",
     "text": [
      "\n",
      "OK, no removals will be made.\n"
     ]
    }
   ],
   "source": [
    "# prompt to remove keywords\n",
    "keywords_next = input(\"yes or no: Do you want to remove keywords from the existing list? \")\n",
    "\n",
    "if keywords_next == \"yes\":\n",
    "    # remove keywords from list\n",
    "    remove_keywords = list()\n",
    "    remove_keywords = input(\n",
    "        \"\\nEnter the keywords you want removed exactly as they were listed earlier, separated by commas: \"\n",
    "    ).split(\", \")\n",
    "\n",
    "    # looping list of numbers to remove\n",
    "    for word in remove_keywords:\n",
    "        # remove it from the list\n",
    "        while word in keywords:\n",
    "            keywords.remove(word)\n",
    "\n",
    "    print(\"\\nThe updated keyword list is: \")\n",
    "    print(\"*\"*35)\n",
    "    for i, item in enumerate(keywords, start=0):\n",
    "        print(i, item)\n",
    "\n",
    "elif keywords_next == \"no\":\n",
    "    print(\"\\nOK, no removals will be made.\")\n",
    "\n",
    "while keywords_next not in (\"yes\", \"no\"):\n",
    "    keywords_next = input(\"Enter yes or no: \")\n",
    "\n",
    "    if keywords_next == \"yes\":\n",
    "        # remove keywords from list\n",
    "        remove_keywords = list()\n",
    "        remove_keywords = input(\n",
    "            \"\\nEnter the keywords you want removed exactly as they were listed earlier, separated by commas: \"\n",
    "        ).split(\", \")\n",
    "\n",
    "        # looping list of numbers to remove\n",
    "        for word in remove_keywords:\n",
    "            # remove it from the list\n",
    "            while word in keywords:\n",
    "                keywords.remove(word)\n",
    "\n",
    "        print(\"\\nThe updated keyword list is: \")\n",
    "        print(\"*\"*35)\n",
    "        for i, item in enumerate(keywords, start=0):\n",
    "            print(i, item)\n",
    "\n",
    "    elif keywords_next == \"no\":\n",
    "        print(\"\\nOK, no removals will be made.\")\n",
    "        break\n",
    "    else:\n",
    "        print(\"Please enter yes or no.\")"
   ]
  },
  {
   "cell_type": "code",
   "execution_count": 12,
   "metadata": {
    "id": "z-HdGCG3qUg9"
   },
   "outputs": [
    {
     "name": "stdout",
     "output_type": "stream",
     "text": [
      "\n",
      "Searching P:\\Test_Folder_HH for file contents and compiling data to file, this may take several minutes or several hours depending on size.\n",
      "Please keep this window running in the background until complete...\n",
      "\n"
     ]
    }
   ],
   "source": [
    "# prompt to specify path used in search\n",
    "user_dir = input(\n",
    "    \"\\nEnter the directory you want to search exactly as you have it mapped on your computer: \"\n",
    ")\n",
    "\n",
    "answer = input(f\"\\nyes or no: Is {user_dir} the correct directory to search? \")\n",
    "\n",
    "if answer == \"yes\":\n",
    "    # check that the path exists\n",
    "    if os.path.exists(user_dir):\n",
    "        # confirm the user_dir search\n",
    "        print(\n",
    "            f\"\\nSearching {user_dir} for file contents and compiling data to file, this may take several minutes or several hours depending on size.\"\n",
    "        )\n",
    "        print(\"Please keep this window running in the background until complete...\\n\")\n",
    "    else:\n",
    "        print(\n",
    "            \"Cannot reach network drive. Please check your exact path name and ensure you have permission to access this drive and/or folder.\\n\"\n",
    "        )\n",
    "        # repeat user_dir prompt\n",
    "        retry_dir = input(\n",
    "            \"\\nTry again: Enter the directory you want to search exactly as you have it mapped on your computer: \"\n",
    "        )\n",
    "        user_dir = retry_dir\n",
    "        if os.path.exists(user_dir):\n",
    "            # confirm the user_dir search\n",
    "            print(\n",
    "                f\"\\nSearching {user_dir} for file contents and compiling data to file, this may take several minutes or several hours depending on size.\"\n",
    "            )\n",
    "            print(\n",
    "                \"Please keep this window running in the background until complete...\\n\"\n",
    "            )\n",
    "        else:\n",
    "            print(\"Cannot reach network drive. Exiting now...\")\n",
    "            exit()\n",
    "elif answer == \"no\":\n",
    "    # repeat user_dir prompt\n",
    "    retry_dir = input(\n",
    "        \"\\nTry again: Enter the directory you want to search exactly as you have it mapped on your computer: \"\n",
    "    )\n",
    "    user_dir = retry_dir\n",
    "    if os.path.exists(user_dir):\n",
    "        # confirm the directory search\n",
    "        print(\n",
    "            f\"\\nSearching {user_dir} for file contents and compiling data to file, this may take several minutes or several hours depending on size.\"\n",
    "        )\n",
    "        print(\"Please keep this window running in the background until complete...\\n\")\n",
    "    else:\n",
    "        print(\n",
    "            f\"Cannot reach {user_dir}, please confirm exact spelling and/or folder permissions.\\n\",\n",
    "        )\n",
    "        # repeat directory prompt\n",
    "        retry_dir = input(\n",
    "            \"\\nTry again: Enter the directory you want to search exactly as you have it mapped on your computer: \"\n",
    "        )\n",
    "        user_dir = retry_dir\n",
    "        if os.path.exists(user_dir):\n",
    "            # confirm the directory search\n",
    "            print(\n",
    "                f\"\\nSearching {user_dir} for file contents and compiling data to file, this may take several minutes or several hours depending on size.\"\n",
    "            )\n",
    "            print(\n",
    "                \"Please keep this window running in the background until complete...\\n\"\n",
    "            )\n",
    "        else:\n",
    "            print(\"Cannot reach network drive. Exiting now...\")\n",
    "            exit()\n",
    "while answer not in (\"yes\", \"no\"):\n",
    "    answer = input(\"Enter yes or no: \")\n",
    "    if answer == \"yes\":\n",
    "        # confirm the directory search\n",
    "        print(\n",
    "                f\"\\nSearching {user_dir} for file contents and compiling data to file, this may take several minutes or several hours depending on size.\"\n",
    "            )\n",
    "        print(\n",
    "            \"Please keep this window running in the background until complete...\\n\"\n",
    "            )\n",
    "    elif answer == \"no\":\n",
    "        # repeat directory prompt\n",
    "        retry_dir = input(\n",
    "            \"\\nTry again: Enter the directory you want to search exactly as you have it mapped on your computer: \"\n",
    "        )\n",
    "        user_dir = retry_dir\n",
    "        if os.path.exists(user_dir):\n",
    "            # confirm the directory search\n",
    "            print(\n",
    "                f\"\\nSearching {user_dir} for file contents and compiling data to file, this may take several minutes or several hours depending on size.\"\n",
    "            )\n",
    "            print(\n",
    "                \"Please keep this window running in the background until complete...\\n\"\n",
    "            )\n",
    "        else:\n",
    "            print(\"Cannot reach network drive. Exiting now...\")\n",
    "            exit()\n",
    "        break\n",
    "    else:\n",
    "        print(\"Please enter yes or no.\")"
   ]
  },
  {
   "cell_type": "code",
   "execution_count": 13,
   "metadata": {},
   "outputs": [],
   "source": [
    "# create list placeholders for filetype search results\n",
    "match_docx_items = []\n",
    "match_pdf_items = []\n",
    "match_excel_items = []\n",
    "match_csv_items = []\n",
    "match_text_items = []\n",
    "\n",
    "# create list of all file names in the user-specified directory\n",
    "file_names = os.listdir(user_dir)"
   ]
  },
  {
   "cell_type": "code",
   "execution_count": 14,
   "metadata": {
    "id": "BgbxjDpgzBpf"
   },
   "outputs": [
    {
     "name": "stdout",
     "output_type": "stream",
     "text": [
      "Finished searching Word files, moving on to PDF...\n",
      "\n"
     ]
    }
   ],
   "source": [
    "# search Word documents (.docx extension) and output results to dataframe\n",
    "docx_names = [file for file in file_names if file.endswith(\".docx\")]\n",
    "docx_names = [os.path.join(user_dir, file) for file in docx_names]\n",
    "\n",
    "for file in docx_names:\n",
    "    document = Document(file)\n",
    "    for paragraph in document.paragraphs:\n",
    "        for kw in keywords:\n",
    "            regex = re.compile(kw)\n",
    "            if regex.search(paragraph.text):\n",
    "                # if kw in paragraph.text:\n",
    "                match_docx_items.append([file, kw])\n",
    "\n",
    "searched_docx = pd.DataFrame(\n",
    "    match_docx_items,\n",
    "    columns=[\"file_name\", \"keyword_match\"],\n",
    "    index=[i[0] for i in match_docx_items],\n",
    ")\n",
    "\n",
    "# print(searched_docx)\n",
    "print(\"Finished searching Word files, moving on to PDF...\\n\")"
   ]
  },
  {
   "cell_type": "code",
   "execution_count": 15,
   "metadata": {},
   "outputs": [
    {
     "name": "stdout",
     "output_type": "stream",
     "text": [
      "Finished searching PDF files, moving on to Excel...\n",
      "\n"
     ]
    }
   ],
   "source": [
    "# search PDF files (.pdf extension) and output results to dataframe\n",
    "pdf_names = [file for file in file_names if file.endswith(\".pdf\")]\n",
    "pdf_names = [os.path.join(user_dir, file) for file in pdf_names]\n",
    "\n",
    "for file in pdf_names:\n",
    "    with open(file, \"rb\") as f:\n",
    "        pdf_text = slate.PDF(f).text()\n",
    "        for kw in keywords:\n",
    "            regex = re.compile(kw)\n",
    "            if regex.search(pdf_text):\n",
    "                match_pdf_items.append([file, kw])\n",
    "\n",
    "searched_pdf = pd.DataFrame(\n",
    "    match_pdf_items,\n",
    "    columns=[\"file_name\", \"keyword_match\"],\n",
    "    index=[i[0] for i in match_pdf_items],\n",
    ")\n",
    "\n",
    "# print(searched_pdf)\n",
    "print(\"Finished searching PDF files, moving on to Excel...\\n\")"
   ]
  },
  {
   "cell_type": "code",
   "execution_count": 16,
   "metadata": {},
   "outputs": [
    {
     "name": "stdout",
     "output_type": "stream",
     "text": [
      "Finished searching Excel files, moving on to CSV...\n",
      "\n"
     ]
    }
   ],
   "source": [
    "# search Excel files (.xlsx extension) and output results to dataframe\n",
    "excel_names = [file for file in file_names if file.endswith(\".xlsx\")]\n",
    "excel_names = [os.path.join(user_dir, file) for file in excel_names]\n",
    "\n",
    "for file in excel_names:\n",
    "    wb = openpyxl.load_workbook(file)\n",
    "    for ws in wb.worksheets:\n",
    "        for row in ws.iter_rows():\n",
    "            for cell in row:\n",
    "                for kw in keywords:\n",
    "                    regex = re.compile(kw)\n",
    "                    if regex.search(cell.value):\n",
    "                        match_excel_items.append([file, kw])\n",
    "\n",
    "searched_excel = pd.DataFrame(\n",
    "    match_excel_items,\n",
    "    columns=[\"file_name\", \"keyword_match\"],\n",
    "    index=[i[0] for i in match_excel_items],\n",
    ")\n",
    "\n",
    "# print(searched_excel)\n",
    "print(\"Finished searching Excel files, moving on to CSV...\\n\")"
   ]
  },
  {
   "cell_type": "code",
   "execution_count": 17,
   "metadata": {},
   "outputs": [
    {
     "name": "stdout",
     "output_type": "stream",
     "text": [
      "Finished searching CSV files, moving on to Text files...\n",
      "\n"
     ]
    }
   ],
   "source": [
    "# search CSV files (.csv extension) and output results to dataframe\n",
    "csv_names = [file for file in file_names if file.endswith(\".csv\")]\n",
    "csv_names = [os.path.join(user_dir, file) for file in csv_names]\n",
    "\n",
    "for file in csv_names:\n",
    "    with open(file, \"rt\") as f:\n",
    "        reader = csv.reader(f)\n",
    "        for row in reader:\n",
    "            for field in row:\n",
    "                for kw in keywords:\n",
    "                    regex = re.compile(kw)\n",
    "                    if regex.search(field):\n",
    "                        match_csv_items.append([file, kw])\n",
    "\n",
    "searched_csv = pd.DataFrame(\n",
    "    match_csv_items,\n",
    "    columns=[\"file_name\", \"keyword_match\"],\n",
    "    index=[i[0] for i in match_csv_items],\n",
    ")\n",
    "\n",
    "# print(searched_csv)\n",
    "print(\"Finished searching CSV files, moving on to Text files...\\n\")"
   ]
  },
  {
   "cell_type": "code",
   "execution_count": 18,
   "metadata": {},
   "outputs": [
    {
     "name": "stdout",
     "output_type": "stream",
     "text": [
      "Finished searching Text files, updating your report...\n",
      "\n"
     ]
    }
   ],
   "source": [
    "# search Notepad files (.txt extension) and output results to dataframe\n",
    "text_names = [file for file in file_names if file.endswith(\".txt\")]\n",
    "text_names = [os.path.join(user_dir, file) for file in text_names]\n",
    "\n",
    "for file in text_names:\n",
    "    with open(file, \"r\") as f:\n",
    "        content = f.read()\n",
    "        for kw in keywords:\n",
    "            regex = re.compile(kw)\n",
    "            if regex.search(content):\n",
    "                match_text_items.append([file, kw])\n",
    "\n",
    "searched_text = pd.DataFrame(\n",
    "    match_text_items,\n",
    "    columns=[\"file_name\", \"keyword_match\"],\n",
    "    index=[i[0] for i in match_text_items],\n",
    ")\n",
    "\n",
    "# print(searched_text)\n",
    "print(\"Finished searching Text files, updating your report...\\n\")"
   ]
  },
  {
   "cell_type": "code",
   "execution_count": 19,
   "metadata": {},
   "outputs": [],
   "source": [
    "# prepare the final dataframe\n",
    "\n",
    "# create list of dataframes\n",
    "searched_df_list = [\n",
    "    searched_docx,\n",
    "    searched_pdf,\n",
    "    searched_excel,\n",
    "    searched_csv,\n",
    "    searched_text,\n",
    "]\n",
    "\n",
    "# set index of each dataframe\n",
    "searched_df = [df for df in searched_df_list]\n",
    "\n",
    "# concatenate dataframes\n",
    "searched_df = pd.concat(searched_df)\n",
    "\n",
    "# sort by file name and remove duplicates from file_name column\n",
    "searched_df = searched_df.sort_values(by=[\"file_name\"]).drop_duplicates(\n",
    "    subset=[\"file_name\"], keep=\"first\"\n",
    ")"
   ]
  },
  {
   "cell_type": "code",
   "execution_count": 20,
   "metadata": {},
   "outputs": [],
   "source": [
    "# prepare the output file name\n",
    "\n",
    "# set the date formatting\n",
    "now = datetime.now()\n",
    "dt_string = now.strftime(\"%Y-%b-%d-%H%M%S\")\n",
    "\n",
    "SaveName = f\"{SavePath}/filtered_path_report_\" + dt_string + \".csv\""
   ]
  },
  {
   "cell_type": "code",
   "execution_count": 22,
   "metadata": {},
   "outputs": [
    {
     "name": "stdout",
     "output_type": "stream",
     "text": [
      "Your Keyword Report can be found here: C:/Users/HHAY/OneDrive - Government of BC/Optimize/filtered_path_report_2023-Jun-27-125955.csv. \n",
      "Please contact NRIDS.Optimize@gov.bc.ca if you require further assistance. Thank you!\n"
     ]
    }
   ],
   "source": [
    "# send the prepared report to CSV\n",
    "\n",
    "# save dataframe to file\n",
    "searched_df.to_csv(SaveName, index=False)\n",
    "\n",
    "# advise user where their saved report is located\n",
    "print(\n",
    "    f\"Your Keyword Report can be found here: {SaveName} \\nPlease contact NRIDS.Optimize@gov.bc.ca if you require further assistance. Thank you!\"\n",
    ")"
   ]
  }
 ],
 "metadata": {
  "colab": {
   "provenance": []
  },
  "kernelspec": {
   "display_name": "Python 3",
   "name": "python3"
  },
  "language_info": {
   "codemirror_mode": {
    "name": "ipython",
    "version": 3
   },
   "file_extension": ".py",
   "mimetype": "text/x-python",
   "name": "python",
   "nbconvert_exporter": "python",
   "pygments_lexer": "ipython3",
   "version": "3.11.4"
  }
 },
 "nbformat": 4,
 "nbformat_minor": 0
>>>>>>> keyword_searches
}
